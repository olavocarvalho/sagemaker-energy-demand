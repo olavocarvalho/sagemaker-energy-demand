{
 "cells": [
  {
   "cell_type": "markdown",
   "metadata": {},
   "source": [
    "# Forecasting Energy Demand \n",
    "\n",
    "Climate change is the biggest challenge of our generation\n",
    "\n",
    "Every year, energy consumption grows world widely[1], specially in developing countries like Brazil. The growth in\n",
    "energy consumption increases the need for better planning of energy use and the competitiveness in the electricity markets. Accurate prediction of the future electricity demand constitutes a vital task for bidding strategy\n",
    "of each partner which is significantly conditioned by the expected demand.\n",
    "\n",
    "Depending on the climate zone, heating and/or cooling can account for 20% to 50% of energy used in Australian homes.\n",
    "The goal of this project is to use machine larning models to generate a nuanced energy demand forecast using hourly weather data to predict large spikes in electricity demand. \n"
   ]
  },
  {
   "cell_type": "markdown",
   "metadata": {},
   "source": [
    "# Data Collection and Analysis\n",
    "To train and test models, we are using ~27,000 hourly measures of electricity demand in Los Angeles from July 2015 to September 2018. This data was recorded by the Los Angeles Department of Water and Power, and made available through the Energy Information Administration’s public API."
   ]
  },
  {
   "cell_type": "markdown",
   "metadata": {},
   "source": [
    "# Citations\n",
    "[1] International Energy Agency, “Key world energy statistics,” 2016,\n",
    "accessed 11 November 2016. [Online]. Available: https://www.iea.org/\n",
    "publications/freepublications/publication/KeyWorld2016.pdf"
   ]
  },
  {
   "cell_type": "code",
   "execution_count": null,
   "metadata": {},
   "outputs": [],
   "source": []
  }
 ],
 "metadata": {
  "kernelspec": {
   "display_name": "conda_amazonei_mxnet_p27",
   "language": "python",
   "name": "conda_amazonei_mxnet_p27"
  },
  "language_info": {
   "codemirror_mode": {
    "name": "ipython",
    "version": 2
   },
   "file_extension": ".py",
   "mimetype": "text/x-python",
   "name": "python",
   "nbconvert_exporter": "python",
   "pygments_lexer": "ipython2",
   "version": "2.7.15"
  }
 },
 "nbformat": 4,
 "nbformat_minor": 4
}
