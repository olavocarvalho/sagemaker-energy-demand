{
 "cells": [
  {
   "cell_type": "code",
   "execution_count": null,
   "metadata": {},
   "outputs": [],
   "source": [
    "import boto3\n",
    "import io\n",
    "from sagemaker import get_execution_role\n",
    "\n",
    "role = get_execution_role()\n",
    "bucket ='sagemaker-data-energy-demand'"
   ]
  },
  {
   "cell_type": "code",
   "execution_count": null,
   "metadata": {},
   "outputs": [],
   "source": [
    "import numpy as np \n",
    "import pandas as pd \n",
    "from datetime import datetime, timedelta\n",
    "\n",
    "import matplotlib.pyplot as plt\n",
    "\n",
    "from pandas.plotting import register_matplotlib_converters\n",
    "register_matplotlib_converters()\n",
    "\n",
    "import warnings\n",
    "warnings.filterwarnings('ignore')"
   ]
  },
  {
   "cell_type": "code",
   "execution_count": null,
   "metadata": {},
   "outputs": [],
   "source": [
    "CITY = 'LosAngeles'\n",
    "df_file = 'dataframes/%s_reframed.csv' % CITY\n",
    "\n",
    "df_location = 's3://{}/{}'.format(bucket, df_file)\n",
    "df = pd.read_csv(df_location, index_col ='datetime')\n",
    "df.head()"
   ]
  },
  {
   "cell_type": "code",
   "execution_count": null,
   "metadata": {},
   "outputs": [],
   "source": [
    "plt.plot(df.loc[(df['year(t)'] == 2019) & (df['month(t)'] == 11)]['demand(t)'],label='201911')\n",
    "plt.plot(df.loc[(df['year(t)'] == 2019) & (df['month(t)'] == 12)]['demand(t)'],label='201912')\n",
    "plt.xticks(fontsize=14, rotation=45)\n",
    "plt.xlabel('Date')\n",
    "plt.ylabel('Demand (M)')\n",
    "plt.title('Latest two months of data')\n",
    "plt.legend()\n",
    "plt.show()"
   ]
  },
  {
   "cell_type": "code",
   "execution_count": null,
   "metadata": {},
   "outputs": [],
   "source": [
    "plt.boxplot([df['demand(t)']], labels=['demand(t)'])\n",
    "plt.title('Box Plot - Demand(t)')\n",
    "plt.ylabel('Target')\n",
    "plt.grid(True)"
   ]
  },
  {
   "cell_type": "code",
   "execution_count": null,
   "metadata": {},
   "outputs": [],
   "source": [
    "#split_date = '2019-12-01 01:00:00+00:00'\n",
    "lastrow_date = df.tail(1).index.values[0]\n",
    "               \n",
    "datetime_lastrow = datetime.strptime(lastrow_date[:-6], '%Y-%m-%d %H:%M:%S')\n",
    "split_test_date = datetime_lastrow - timedelta(hours=71)\n",
    "split_test_date_str = str(split_test_date)\n",
    "split_validation_date = split_test_date - timedelta(days=30)\n",
    "split_validation_date_str = str(split_validation_date)\n",
    "\n",
    "\n",
    "df_train = df.loc[df.index <= split_validation_date_str].copy()\n",
    "df_validation = df.loc[(df.index > split_validation_date_str) & (df.index <= split_test_date_str) ].copy()\n",
    "df_test = df.loc[df.index > split_test_date_str].copy()\n",
    "\n",
    "print(df_train.shape)\n",
    "print(df_validation.shape)\n",
    "print(df_test.shape)"
   ]
  },
  {
   "cell_type": "code",
   "execution_count": null,
   "metadata": {},
   "outputs": [],
   "source": [
    "print((df_train.shape[0] + df_validation.shape[0] + df_test.shape[0]) == df.shape[0])"
   ]
  },
  {
   "cell_type": "code",
   "execution_count": null,
   "metadata": {},
   "outputs": [],
   "source": [
    "# save as csv file to continue in another notebook\n",
    "s3_resource = boto3.resource('s3')\n",
    "\n",
    "train_buffer = io.StringIO()\n",
    "train_key = 'dataframes/%s_reframed_train.csv' % CITY\n",
    "df_train.to_csv(train_buffer, compression=None)\n",
    "\n",
    "validation_buffer = io.StringIO()\n",
    "validation_key = 'dataframes/%s_reframed_validation.csv' % CITY\n",
    "df_validation.to_csv(validation_buffer, compression=None)\n",
    "\n",
    "test_buffer = io.StringIO()\n",
    "test_key = 'dataframes/%s_reframed_test.csv' % CITY\n",
    "df_test.to_csv(test_buffer, compression=None)\n",
    "\n",
    "\n",
    "s3_resource.Object(bucket, train_key).put(Body=train_buffer.getvalue())\n",
    "s3_resource.Object(bucket, validation_key).put(Body=validation_buffer.getvalue())\n",
    "s3_resource.Object(bucket, test_key).put(Body=test_buffer.getvalue())"
   ]
  },
  {
   "cell_type": "code",
   "execution_count": null,
   "metadata": {},
   "outputs": [],
   "source": []
  }
 ],
 "metadata": {
  "kernelspec": {
   "display_name": "conda_python3",
   "language": "python",
   "name": "conda_python3"
  },
  "language_info": {
   "codemirror_mode": {
    "name": "ipython",
    "version": 3
   },
   "file_extension": ".py",
   "mimetype": "text/x-python",
   "name": "python",
   "nbconvert_exporter": "python",
   "pygments_lexer": "ipython3",
   "version": "3.6.5"
  }
 },
 "nbformat": 4,
 "nbformat_minor": 4
}
