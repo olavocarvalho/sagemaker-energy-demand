{
 "cells": [
  {
   "cell_type": "code",
   "execution_count": 13,
   "metadata": {},
   "outputs": [],
   "source": [
    "# Import AWS and Sagemaker SDKs and get files access\n",
    "import boto3\n",
    "import io\n",
    "from sagemaker import get_execution_role\n",
    "\n",
    "role = get_execution_role()\n",
    "bucket ='sagemaker-data-energy-demand'"
   ]
  },
  {
   "cell_type": "code",
   "execution_count": 14,
   "metadata": {},
   "outputs": [
    {
     "name": "stdout",
     "output_type": "stream",
     "text": [
      "Requirement already satisfied: lightgbm in /home/ec2-user/anaconda3/envs/python3/lib/python3.6/site-packages (2.3.1)\n",
      "Requirement already satisfied: scikit-learn in /home/ec2-user/anaconda3/envs/python3/lib/python3.6/site-packages (from lightgbm) (0.20.3)\n",
      "Requirement already satisfied: numpy in /home/ec2-user/anaconda3/envs/python3/lib/python3.6/site-packages (from lightgbm) (1.14.3)\n",
      "Requirement already satisfied: scipy in /home/ec2-user/anaconda3/envs/python3/lib/python3.6/site-packages (from lightgbm) (1.1.0)\n",
      "\u001b[33mYou are using pip version 10.0.1, however version 19.3.1 is available.\n",
      "You should consider upgrading via the 'pip install --upgrade pip' command.\u001b[0m\n"
     ]
    }
   ],
   "source": [
    "!pip install lightgbm"
   ]
  },
  {
   "cell_type": "code",
   "execution_count": 15,
   "metadata": {},
   "outputs": [],
   "source": [
    "import sys\n",
    "import warnings\n",
    "warnings.filterwarnings('ignore')\n",
    "\n",
    "import numpy as np \n",
    "import pandas as pd \n",
    "\n",
    "import seaborn as sns\n",
    "import matplotlib.pyplot as plt\n",
    "import plotly.express as px\n",
    "import plotly.graph_objects as go\n",
    "plt.style.use('fivethirtyeight')\n",
    "\n",
    "from sklearn.model_selection import train_test_split\n",
    "from sklearn.preprocessing import MinMaxScaler\n",
    "from sklearn.metrics import mean_squared_error, mean_absolute_error\n",
    "\n",
    "\n",
    "# Light GBM \n",
    "import lightgbm as lgb"
   ]
  },
  {
   "cell_type": "code",
   "execution_count": 16,
   "metadata": {},
   "outputs": [],
   "source": [
    "# Import data \n",
    "\n",
    "CITY = 'LosAngeles'\n",
    "train_key = 'dataframes/%s/train/data_train.csv' % CITY\n",
    "validation_key = 'dataframes/%s/test/data_validation.csv' % CITY\n",
    "\n",
    "train_location = 's3://{}/{}'.format(bucket, train_key)\n",
    "validation_location = 's3://{}/{}'.format(bucket, validation_key)\n",
    "\n",
    "df_train = pd.read_csv(train_location, index_col='datetime')\n",
    "df_validation = pd.read_csv(validation_location, index_col='datetime')"
   ]
  },
  {
   "cell_type": "code",
   "execution_count": 17,
   "metadata": {},
   "outputs": [],
   "source": [
    "def data_sppliter(df, label):\n",
    "    cols = list(df.columns)\n",
    "    cols.remove(label)\n",
    "    X = df[cols]\n",
    "    y = df[label]\n",
    "    return X, y\n",
    "\n",
    "X_train, y_train = data_sppliter(df_train, label='demand(t)')\n",
    "X_validation, y_validation = data_sppliter(df_validation, label='demand(t)')"
   ]
  },
  {
   "cell_type": "code",
   "execution_count": 18,
   "metadata": {},
   "outputs": [],
   "source": [
    "scaler = MinMaxScaler()\n",
    "X_train_scaled = scaler.fit_transform(X_train)\n",
    "X_validation_scaled = scaler.transform(X_validation)\n",
    "\n",
    "X_train = pd.DataFrame(X_train_scaled, columns=X_train.columns, index=X_train.index)\n",
    "X_validation = pd.DataFrame(X_validation_scaled, columns=X_validation.columns, index=X_validation.index)"
   ]
  },
  {
   "cell_type": "markdown",
   "metadata": {},
   "source": [
    "## Create LightGBM Model"
   ]
  },
  {
   "cell_type": "code",
   "execution_count": 19,
   "metadata": {},
   "outputs": [],
   "source": [
    "# Creating model\n",
    "gbm = lgb.LGBMRegressor(num_leaves=31,\n",
    "                        learning_rate=0.05,\n",
    "                        n_estimators=100)"
   ]
  },
  {
   "cell_type": "code",
   "execution_count": 10,
   "metadata": {},
   "outputs": [
    {
     "name": "stdout",
     "output_type": "stream",
     "text": [
      "[1]\tvalid_0's l1: 522.937\tvalid_0's l2: 432070\n",
      "Training until validation scores don't improve for 10 rounds\n",
      "[2]\tvalid_0's l1: 498.457\tvalid_0's l2: 392748\n",
      "[3]\tvalid_0's l1: 475.377\tvalid_0's l2: 357274\n",
      "[4]\tvalid_0's l1: 453.271\tvalid_0's l2: 325097\n",
      "[5]\tvalid_0's l1: 432.506\tvalid_0's l2: 296195\n",
      "[6]\tvalid_0's l1: 412.733\tvalid_0's l2: 270044\n",
      "[7]\tvalid_0's l1: 393.916\tvalid_0's l2: 246252\n",
      "[8]\tvalid_0's l1: 376.236\tvalid_0's l2: 224861\n",
      "[9]\tvalid_0's l1: 359.475\tvalid_0's l2: 205500\n",
      "[10]\tvalid_0's l1: 343.533\tvalid_0's l2: 187790\n",
      "[11]\tvalid_0's l1: 328.597\tvalid_0's l2: 171950\n",
      "[12]\tvalid_0's l1: 314.341\tvalid_0's l2: 157493\n",
      "[13]\tvalid_0's l1: 300.845\tvalid_0's l2: 144434\n",
      "[14]\tvalid_0's l1: 288.119\tvalid_0's l2: 132611\n",
      "[15]\tvalid_0's l1: 276.28\tvalid_0's l2: 122053\n",
      "[16]\tvalid_0's l1: 264.989\tvalid_0's l2: 112394\n",
      "[17]\tvalid_0's l1: 254.17\tvalid_0's l2: 103534\n",
      "[18]\tvalid_0's l1: 244.17\tvalid_0's l2: 95667.1\n",
      "[19]\tvalid_0's l1: 234.648\tvalid_0's l2: 88371.6\n",
      "[20]\tvalid_0's l1: 225.768\tvalid_0's l2: 81807.5\n",
      "[21]\tvalid_0's l1: 217.526\tvalid_0's l2: 75930.9\n",
      "[22]\tvalid_0's l1: 209.693\tvalid_0's l2: 70572\n",
      "[23]\tvalid_0's l1: 202.294\tvalid_0's l2: 65627.2\n",
      "[24]\tvalid_0's l1: 195.505\tvalid_0's l2: 61237.4\n",
      "[25]\tvalid_0's l1: 189.081\tvalid_0's l2: 57206.1\n",
      "[26]\tvalid_0's l1: 183.052\tvalid_0's l2: 53621.1\n",
      "[27]\tvalid_0's l1: 177.642\tvalid_0's l2: 50437.3\n",
      "[28]\tvalid_0's l1: 172.492\tvalid_0's l2: 47493.3\n",
      "[29]\tvalid_0's l1: 167.61\tvalid_0's l2: 44778.8\n",
      "[30]\tvalid_0's l1: 163.025\tvalid_0's l2: 42250.2\n",
      "[31]\tvalid_0's l1: 158.659\tvalid_0's l2: 39963.7\n",
      "[32]\tvalid_0's l1: 154.745\tvalid_0's l2: 37948.9\n",
      "[33]\tvalid_0's l1: 151.026\tvalid_0's l2: 36050\n",
      "[34]\tvalid_0's l1: 147.42\tvalid_0's l2: 34236.7\n",
      "[35]\tvalid_0's l1: 144.213\tvalid_0's l2: 32634.9\n",
      "[36]\tvalid_0's l1: 141.337\tvalid_0's l2: 31246.8\n",
      "[37]\tvalid_0's l1: 138.616\tvalid_0's l2: 29939.3\n",
      "[38]\tvalid_0's l1: 135.987\tvalid_0's l2: 28735.3\n",
      "[39]\tvalid_0's l1: 133.624\tvalid_0's l2: 27673.4\n",
      "[40]\tvalid_0's l1: 131.331\tvalid_0's l2: 26653.4\n",
      "[41]\tvalid_0's l1: 129.296\tvalid_0's l2: 25744.6\n",
      "[42]\tvalid_0's l1: 127.27\tvalid_0's l2: 24848.4\n",
      "[43]\tvalid_0's l1: 125.38\tvalid_0's l2: 24030.1\n",
      "[44]\tvalid_0's l1: 123.607\tvalid_0's l2: 23267.8\n",
      "[45]\tvalid_0's l1: 122.074\tvalid_0's l2: 22614.3\n",
      "[46]\tvalid_0's l1: 120.502\tvalid_0's l2: 21988.3\n",
      "[47]\tvalid_0's l1: 119.024\tvalid_0's l2: 21377.1\n",
      "[48]\tvalid_0's l1: 117.673\tvalid_0's l2: 20832.9\n",
      "[49]\tvalid_0's l1: 116.479\tvalid_0's l2: 20369.8\n",
      "[50]\tvalid_0's l1: 115.464\tvalid_0's l2: 19983.6\n",
      "[51]\tvalid_0's l1: 114.256\tvalid_0's l2: 19545\n",
      "[52]\tvalid_0's l1: 113.156\tvalid_0's l2: 19148.9\n",
      "[53]\tvalid_0's l1: 112.137\tvalid_0's l2: 18789.5\n",
      "[54]\tvalid_0's l1: 111.075\tvalid_0's l2: 18432.9\n",
      "[55]\tvalid_0's l1: 110.083\tvalid_0's l2: 18096.5\n",
      "[56]\tvalid_0's l1: 109.015\tvalid_0's l2: 17755\n",
      "[57]\tvalid_0's l1: 108.075\tvalid_0's l2: 17442.9\n",
      "[58]\tvalid_0's l1: 107.253\tvalid_0's l2: 17170.4\n",
      "[59]\tvalid_0's l1: 106.326\tvalid_0's l2: 16872.8\n",
      "[60]\tvalid_0's l1: 105.576\tvalid_0's l2: 16644.8\n",
      "[61]\tvalid_0's l1: 104.827\tvalid_0's l2: 16419.4\n",
      "[62]\tvalid_0's l1: 104.116\tvalid_0's l2: 16207.2\n",
      "[63]\tvalid_0's l1: 103.462\tvalid_0's l2: 16008.4\n",
      "[64]\tvalid_0's l1: 102.893\tvalid_0's l2: 15841.4\n",
      "[65]\tvalid_0's l1: 102.265\tvalid_0's l2: 15665.8\n",
      "[66]\tvalid_0's l1: 101.67\tvalid_0's l2: 15498.3\n",
      "[67]\tvalid_0's l1: 101.04\tvalid_0's l2: 15330.1\n",
      "[68]\tvalid_0's l1: 100.361\tvalid_0's l2: 15143.7\n",
      "[69]\tvalid_0's l1: 99.7484\tvalid_0's l2: 14982.2\n",
      "[70]\tvalid_0's l1: 99.2116\tvalid_0's l2: 14844.6\n",
      "[71]\tvalid_0's l1: 98.5765\tvalid_0's l2: 14678.5\n",
      "[72]\tvalid_0's l1: 97.9177\tvalid_0's l2: 14515.9\n",
      "[73]\tvalid_0's l1: 97.4788\tvalid_0's l2: 14410.8\n",
      "[74]\tvalid_0's l1: 96.947\tvalid_0's l2: 14274.5\n",
      "[75]\tvalid_0's l1: 96.5462\tvalid_0's l2: 14176.6\n",
      "[76]\tvalid_0's l1: 96.0921\tvalid_0's l2: 14066.2\n",
      "[77]\tvalid_0's l1: 95.471\tvalid_0's l2: 13913.7\n",
      "[78]\tvalid_0's l1: 95.1063\tvalid_0's l2: 13830.8\n",
      "[79]\tvalid_0's l1: 94.6707\tvalid_0's l2: 13732.6\n",
      "[80]\tvalid_0's l1: 94.2231\tvalid_0's l2: 13626.6\n",
      "[81]\tvalid_0's l1: 93.5494\tvalid_0's l2: 13465.8\n",
      "[82]\tvalid_0's l1: 92.9921\tvalid_0's l2: 13341\n",
      "[83]\tvalid_0's l1: 92.4578\tvalid_0's l2: 13220.4\n",
      "[84]\tvalid_0's l1: 91.914\tvalid_0's l2: 13100.1\n",
      "[85]\tvalid_0's l1: 91.5271\tvalid_0's l2: 13010.3\n",
      "[86]\tvalid_0's l1: 90.9674\tvalid_0's l2: 12884.9\n",
      "[87]\tvalid_0's l1: 90.529\tvalid_0's l2: 12791.8\n",
      "[88]\tvalid_0's l1: 90.1084\tvalid_0's l2: 12704.2\n",
      "[89]\tvalid_0's l1: 89.7038\tvalid_0's l2: 12624.9\n",
      "[90]\tvalid_0's l1: 89.3253\tvalid_0's l2: 12541.9\n",
      "[91]\tvalid_0's l1: 88.9408\tvalid_0's l2: 12462.1\n",
      "[92]\tvalid_0's l1: 88.656\tvalid_0's l2: 12396.8\n",
      "[93]\tvalid_0's l1: 88.46\tvalid_0's l2: 12352.2\n",
      "[94]\tvalid_0's l1: 87.9731\tvalid_0's l2: 12257\n",
      "[95]\tvalid_0's l1: 87.7735\tvalid_0's l2: 12210.6\n",
      "[96]\tvalid_0's l1: 87.601\tvalid_0's l2: 12172.7\n",
      "[97]\tvalid_0's l1: 87.2813\tvalid_0's l2: 12104.5\n",
      "[98]\tvalid_0's l1: 86.8548\tvalid_0's l2: 12025\n",
      "[99]\tvalid_0's l1: 86.6923\tvalid_0's l2: 11989.1\n",
      "[100]\tvalid_0's l1: 86.4501\tvalid_0's l2: 11941.1\n",
      "Did not meet early stopping. Best iteration is:\n",
      "[100]\tvalid_0's l1: 86.4501\tvalid_0's l2: 11941.1\n",
      "Starting predicting...\n"
     ]
    }
   ],
   "source": [
    "gbm.fit(X_train, y_train,\n",
    "        eval_set=[(X_validation, y_validation)],\n",
    "        eval_metric='l1',\n",
    "        early_stopping_rounds=10)\n",
    "\n",
    "print('Starting predicting...')\n",
    "\n",
    "# predict\n",
    "df_validation['LightGBM_demand_prediction'] = gbm.predict(X_validation, num_iteration=gbm.best_iteration_)\n",
    "\n",
    "# eval\n",
    "#print('The rmse of prediction is:', mean_squared_error(y_true, y_validation) ** 0.5)"
   ]
  },
  {
   "cell_type": "code",
   "execution_count": 11,
   "metadata": {},
   "outputs": [],
   "source": [
    "df_lgb = df_validation[['LightGBM_demand_prediction']].copy()"
   ]
  },
  {
   "cell_type": "code",
   "execution_count": 12,
   "metadata": {},
   "outputs": [
    {
     "data": {
      "text/plain": [
       "{'ResponseMetadata': {'RequestId': '8D3603E3CEA02F1C',\n",
       "  'HostId': 'DaUU2WGSPgepLISg8BRWdZBvEdEFGg7+24lGnEPMtTXKp4InXOasoDuRW8EUFjzI7wFGZ5l9slA=',\n",
       "  'HTTPStatusCode': 200,\n",
       "  'HTTPHeaders': {'x-amz-id-2': 'DaUU2WGSPgepLISg8BRWdZBvEdEFGg7+24lGnEPMtTXKp4InXOasoDuRW8EUFjzI7wFGZ5l9slA=',\n",
       "   'x-amz-request-id': '8D3603E3CEA02F1C',\n",
       "   'date': 'Thu, 16 Jan 2020 17:38:05 GMT',\n",
       "   'etag': '\"3c9a70b7f18148aa22c08c40ad0b1052\"',\n",
       "   'content-length': '0',\n",
       "   'server': 'AmazonS3'},\n",
       "  'RetryAttempts': 0},\n",
       " 'ETag': '\"3c9a70b7f18148aa22c08c40ad0b1052\"'}"
      ]
     },
     "execution_count": 12,
     "metadata": {},
     "output_type": "execute_result"
    }
   ],
   "source": [
    "# save as csv file to continue in another notebook\n",
    "lgb_buffer = io.StringIO()\n",
    "s3_resource = boto3.resource('s3')\n",
    "key = 'predict/%s/pred_lightgbm.csv' % CITY\n",
    "\n",
    "df_lgb.to_csv(lgb_buffer, compression=None)\n",
    "s3_resource.Object(bucket, key).put(Body=lgb_buffer.getvalue())"
   ]
  },
  {
   "cell_type": "code",
   "execution_count": null,
   "metadata": {},
   "outputs": [],
   "source": []
  }
 ],
 "metadata": {
  "kernelspec": {
   "display_name": "conda_python3",
   "language": "python",
   "name": "conda_python3"
  },
  "language_info": {
   "codemirror_mode": {
    "name": "ipython",
    "version": 3
   },
   "file_extension": ".py",
   "mimetype": "text/x-python",
   "name": "python",
   "nbconvert_exporter": "python",
   "pygments_lexer": "ipython3",
   "version": "3.6.5"
  }
 },
 "nbformat": 4,
 "nbformat_minor": 4
}
