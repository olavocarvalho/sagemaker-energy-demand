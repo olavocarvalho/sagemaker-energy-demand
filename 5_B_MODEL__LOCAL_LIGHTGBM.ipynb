{
 "cells": [
  {
   "cell_type": "code",
   "execution_count": 44,
   "metadata": {},
   "outputs": [],
   "source": [
    "# Import AWS and Sagemaker SDKs and get files access\n",
    "import boto3\n",
    "import io\n",
    "from sagemaker import get_execution_role\n",
    "\n",
    "role = get_execution_role()\n",
    "bucket ='sagemaker-data-energy-demand'"
   ]
  },
  {
   "cell_type": "code",
   "execution_count": 45,
   "metadata": {},
   "outputs": [
    {
     "name": "stdout",
     "output_type": "stream",
     "text": [
      "Requirement already satisfied: lightgbm in /home/ec2-user/anaconda3/envs/python3/lib/python3.6/site-packages (2.3.1)\n",
      "Requirement already satisfied: scikit-learn in /home/ec2-user/anaconda3/envs/python3/lib/python3.6/site-packages (from lightgbm) (0.20.3)\n",
      "Requirement already satisfied: scipy in /home/ec2-user/anaconda3/envs/python3/lib/python3.6/site-packages (from lightgbm) (1.1.0)\n",
      "Requirement already satisfied: numpy in /home/ec2-user/anaconda3/envs/python3/lib/python3.6/site-packages (from lightgbm) (1.14.3)\n",
      "\u001b[33mYou are using pip version 10.0.1, however version 19.3.1 is available.\n",
      "You should consider upgrading via the 'pip install --upgrade pip' command.\u001b[0m\n"
     ]
    }
   ],
   "source": [
    "!pip install lightgbm"
   ]
  },
  {
   "cell_type": "code",
   "execution_count": 46,
   "metadata": {},
   "outputs": [],
   "source": [
    "import sys\n",
    "import warnings\n",
    "warnings.filterwarnings('ignore')\n",
    "\n",
    "import numpy as np \n",
    "import pandas as pd \n",
    "\n",
    "import seaborn as sns\n",
    "import matplotlib.pyplot as plt\n",
    "import plotly.express as px\n",
    "import plotly.graph_objects as go\n",
    "plt.style.use('fivethirtyeight')\n",
    "\n",
    "from sklearn.model_selection import train_test_split\n",
    "from sklearn.preprocessing import MinMaxScaler\n",
    "from sklearn.metrics import mean_squared_error, mean_absolute_error\n",
    "\n",
    "\n",
    "# Light GBM \n",
    "import lightgbm as lgb"
   ]
  },
  {
   "cell_type": "code",
   "execution_count": 47,
   "metadata": {},
   "outputs": [],
   "source": [
    "# Import data \n",
    "\n",
    "CITY = 'LosAngeles'\n",
    "train_key = 'dataframes/%s/train/data_train.csv' % CITY\n",
    "validation_key = 'dataframes/%s/test/data_validation.csv' % CITY\n",
    "\n",
    "train_location = 's3://{}/{}'.format(bucket, train_key)\n",
    "validation_location = 's3://{}/{}'.format(bucket, validation_key)\n",
    "\n",
    "df_train = pd.read_csv(train_location, index_col='datetime')\n",
    "df_validation = pd.read_csv(validation_location, index_col='datetime')"
   ]
  },
  {
   "cell_type": "code",
   "execution_count": 48,
   "metadata": {},
   "outputs": [],
   "source": [
    "def data_sppliter(df, label):\n",
    "    cols = list(df.columns)\n",
    "    cols.remove(label)\n",
    "    X = df[cols]\n",
    "    y = df[label]\n",
    "    return X, y\n",
    "\n",
    "X_train, y_train = data_sppliter(df_train, label='demand(t)')\n",
    "X_validation, y_validation = data_sppliter(df_validation, label='demand(t)')"
   ]
  },
  {
   "cell_type": "code",
   "execution_count": 49,
   "metadata": {},
   "outputs": [],
   "source": [
    "scaler = MinMaxScaler()\n",
    "X_train_scaled = scaler.fit_transform(X_train)\n",
    "X_validation_scaled = scaler.transform(X_validation)\n",
    "\n",
    "X_train = pd.DataFrame(X_train_scaled, columns=X_train.columns, index=X_train.index)\n",
    "X_validation = pd.DataFrame(X_validation_scaled, columns=X_validation.columns, index=X_validation.index)"
   ]
  },
  {
   "cell_type": "markdown",
   "metadata": {},
   "source": [
    "## Create LightGBM Model"
   ]
  },
  {
   "cell_type": "code",
   "execution_count": 50,
   "metadata": {},
   "outputs": [],
   "source": [
    "# Creating model\n",
    "gbm = lgb.LGBMRegressor(num_leaves=31,\n",
    "                        learning_rate=0.05,\n",
    "                        n_estimators=300)"
   ]
  },
  {
   "cell_type": "code",
   "execution_count": 51,
   "metadata": {},
   "outputs": [
    {
     "name": "stdout",
     "output_type": "stream",
     "text": [
      "[1]\tvalid_0's l1: 444.89\tvalid_0's l2: 276373\n",
      "Training until validation scores don't improve for 10 rounds\n",
      "[2]\tvalid_0's l1: 430.213\tvalid_0's l2: 256164\n",
      "[3]\tvalid_0's l1: 416.42\tvalid_0's l2: 238024\n",
      "[4]\tvalid_0's l1: 402.99\tvalid_0's l2: 221108\n",
      "[5]\tvalid_0's l1: 390.14\tvalid_0's l2: 205829\n",
      "[6]\tvalid_0's l1: 378.952\tvalid_0's l2: 192489\n",
      "[7]\tvalid_0's l1: 367.439\tvalid_0's l2: 179783\n",
      "[8]\tvalid_0's l1: 356.366\tvalid_0's l2: 168191\n",
      "[9]\tvalid_0's l1: 345.885\tvalid_0's l2: 157455\n",
      "[10]\tvalid_0's l1: 336.271\tvalid_0's l2: 147752\n",
      "[11]\tvalid_0's l1: 326.774\tvalid_0's l2: 138768\n",
      "[12]\tvalid_0's l1: 317.896\tvalid_0's l2: 130564\n",
      "[13]\tvalid_0's l1: 309.023\tvalid_0's l2: 122836\n",
      "[14]\tvalid_0's l1: 300.894\tvalid_0's l2: 115995\n",
      "[15]\tvalid_0's l1: 292.798\tvalid_0's l2: 109532\n",
      "[16]\tvalid_0's l1: 285.021\tvalid_0's l2: 103575\n",
      "[17]\tvalid_0's l1: 277.793\tvalid_0's l2: 98180.9\n",
      "[18]\tvalid_0's l1: 270.906\tvalid_0's l2: 93189.8\n",
      "[19]\tvalid_0's l1: 263.293\tvalid_0's l2: 88174.9\n",
      "[20]\tvalid_0's l1: 256.828\tvalid_0's l2: 83968.8\n",
      "[21]\tvalid_0's l1: 250.242\tvalid_0's l2: 79748.8\n",
      "[22]\tvalid_0's l1: 245.87\tvalid_0's l2: 77177.8\n",
      "[23]\tvalid_0's l1: 240.65\tvalid_0's l2: 73790.5\n",
      "[24]\tvalid_0's l1: 235.597\tvalid_0's l2: 70702.5\n",
      "[25]\tvalid_0's l1: 229.668\tvalid_0's l2: 67255.8\n",
      "[26]\tvalid_0's l1: 225.087\tvalid_0's l2: 64640.3\n",
      "[27]\tvalid_0's l1: 219.911\tvalid_0's l2: 61891.6\n",
      "[28]\tvalid_0's l1: 215.018\tvalid_0's l2: 59393.2\n",
      "[29]\tvalid_0's l1: 210.133\tvalid_0's l2: 57038.1\n",
      "[30]\tvalid_0's l1: 206.017\tvalid_0's l2: 55054.1\n",
      "[31]\tvalid_0's l1: 202.049\tvalid_0's l2: 53159.1\n",
      "[32]\tvalid_0's l1: 200.998\tvalid_0's l2: 52740.5\n",
      "[33]\tvalid_0's l1: 195.774\tvalid_0's l2: 50381.3\n",
      "[34]\tvalid_0's l1: 193.64\tvalid_0's l2: 49421.9\n",
      "[35]\tvalid_0's l1: 190.562\tvalid_0's l2: 48136.6\n",
      "[36]\tvalid_0's l1: 186.861\tvalid_0's l2: 46474.2\n",
      "[37]\tvalid_0's l1: 184.198\tvalid_0's l2: 45418.5\n",
      "[38]\tvalid_0's l1: 180.938\tvalid_0's l2: 44113.9\n",
      "[39]\tvalid_0's l1: 178.582\tvalid_0's l2: 43240.6\n",
      "[40]\tvalid_0's l1: 176.322\tvalid_0's l2: 42429.2\n",
      "[41]\tvalid_0's l1: 174.128\tvalid_0's l2: 41512.5\n",
      "[42]\tvalid_0's l1: 172.108\tvalid_0's l2: 40791.6\n",
      "[43]\tvalid_0's l1: 169.877\tvalid_0's l2: 39922.1\n",
      "[44]\tvalid_0's l1: 167.274\tvalid_0's l2: 38521\n",
      "[45]\tvalid_0's l1: 165.021\tvalid_0's l2: 37630.4\n",
      "[46]\tvalid_0's l1: 162.632\tvalid_0's l2: 36804.9\n",
      "[47]\tvalid_0's l1: 162.217\tvalid_0's l2: 36642.7\n",
      "[48]\tvalid_0's l1: 160.341\tvalid_0's l2: 35585.5\n",
      "[49]\tvalid_0's l1: 160.539\tvalid_0's l2: 35648.9\n",
      "[50]\tvalid_0's l1: 160.373\tvalid_0's l2: 35555.1\n",
      "[51]\tvalid_0's l1: 158.546\tvalid_0's l2: 34657.9\n",
      "[52]\tvalid_0's l1: 157.252\tvalid_0's l2: 34184.5\n",
      "[53]\tvalid_0's l1: 156.989\tvalid_0's l2: 34100.4\n",
      "[54]\tvalid_0's l1: 157.145\tvalid_0's l2: 34161.2\n",
      "[55]\tvalid_0's l1: 155.822\tvalid_0's l2: 33438\n",
      "[56]\tvalid_0's l1: 155.165\tvalid_0's l2: 33228.5\n",
      "[57]\tvalid_0's l1: 153.908\tvalid_0's l2: 32772\n",
      "[58]\tvalid_0's l1: 153.871\tvalid_0's l2: 32755\n",
      "[59]\tvalid_0's l1: 152.686\tvalid_0's l2: 32162.4\n",
      "[60]\tvalid_0's l1: 151.437\tvalid_0's l2: 31543.6\n",
      "[61]\tvalid_0's l1: 151.053\tvalid_0's l2: 31439.3\n",
      "[62]\tvalid_0's l1: 151.274\tvalid_0's l2: 31506.3\n",
      "[63]\tvalid_0's l1: 151.354\tvalid_0's l2: 31511.5\n",
      "[64]\tvalid_0's l1: 152.047\tvalid_0's l2: 31741.6\n",
      "[65]\tvalid_0's l1: 152.061\tvalid_0's l2: 31714.9\n",
      "[66]\tvalid_0's l1: 153.43\tvalid_0's l2: 32153.8\n",
      "[67]\tvalid_0's l1: 154.731\tvalid_0's l2: 32575\n",
      "[68]\tvalid_0's l1: 155.242\tvalid_0's l2: 32715.9\n",
      "[69]\tvalid_0's l1: 155.979\tvalid_0's l2: 32988.3\n",
      "[70]\tvalid_0's l1: 157.151\tvalid_0's l2: 33372.7\n",
      "[71]\tvalid_0's l1: 157.057\tvalid_0's l2: 33399.7\n",
      "Early stopping, best iteration is:\n",
      "[61]\tvalid_0's l1: 151.053\tvalid_0's l2: 31439.3\n",
      "Starting predicting...\n"
     ]
    }
   ],
   "source": [
    "gbm.fit(X_train, y_train,\n",
    "        eval_set=[(X_validation, y_validation)],\n",
    "        eval_metric='l1',\n",
    "        early_stopping_rounds=10)\n",
    "\n",
    "print('Starting predicting...')\n",
    "\n",
    "# predict\n",
    "df_validation['LightGBM_demand_prediction'] = gbm.predict(X_validation, num_iteration=gbm.best_iteration_)\n",
    "\n",
    "# eval\n",
    "#print('The rmse of prediction is:', mean_squared_error(y_true, y_validation) ** 0.5)"
   ]
  },
  {
   "cell_type": "code",
   "execution_count": 52,
   "metadata": {},
   "outputs": [],
   "source": [
    "df_lgb = df_validation[['LightGBM_demand_prediction']].copy()"
   ]
  },
  {
   "cell_type": "code",
   "execution_count": 53,
   "metadata": {},
   "outputs": [
    {
     "data": {
      "text/plain": [
       "{'ResponseMetadata': {'RequestId': 'FFF2C0CC2FDD85F9',\n",
       "  'HostId': 'szNADCvVMKknpfIkctgklxghJUtcA9ac+K2SM+12EaKh8amUmi1mrC3pxgWFKhDHF0XCNkitVwk=',\n",
       "  'HTTPStatusCode': 200,\n",
       "  'HTTPHeaders': {'x-amz-id-2': 'szNADCvVMKknpfIkctgklxghJUtcA9ac+K2SM+12EaKh8amUmi1mrC3pxgWFKhDHF0XCNkitVwk=',\n",
       "   'x-amz-request-id': 'FFF2C0CC2FDD85F9',\n",
       "   'date': 'Fri, 17 Jan 2020 19:55:54 GMT',\n",
       "   'etag': '\"7b4b9a4a08b52e65d0b2a0807250d8da\"',\n",
       "   'content-length': '0',\n",
       "   'server': 'AmazonS3'},\n",
       "  'RetryAttempts': 0},\n",
       " 'ETag': '\"7b4b9a4a08b52e65d0b2a0807250d8da\"'}"
      ]
     },
     "execution_count": 53,
     "metadata": {},
     "output_type": "execute_result"
    }
   ],
   "source": [
    "# save as csv file to continue in another notebook\n",
    "lgb_buffer = io.StringIO()\n",
    "s3_resource = boto3.resource('s3')\n",
    "key = 'predict/%s/pred_lightgbm.csv' % CITY\n",
    "\n",
    "df_lgb.to_csv(lgb_buffer, compression=None)\n",
    "s3_resource.Object(bucket, key).put(Body=lgb_buffer.getvalue())"
   ]
  },
  {
   "cell_type": "code",
   "execution_count": null,
   "metadata": {},
   "outputs": [],
   "source": []
  },
  {
   "cell_type": "code",
   "execution_count": null,
   "metadata": {},
   "outputs": [],
   "source": []
  }
 ],
 "metadata": {
  "kernelspec": {
   "display_name": "conda_python3",
   "language": "python",
   "name": "conda_python3"
  },
  "language_info": {
   "codemirror_mode": {
    "name": "ipython",
    "version": 3
   },
   "file_extension": ".py",
   "mimetype": "text/x-python",
   "name": "python",
   "nbconvert_exporter": "python",
   "pygments_lexer": "ipython3",
   "version": "3.6.5"
  }
 },
 "nbformat": 4,
 "nbformat_minor": 4
}
