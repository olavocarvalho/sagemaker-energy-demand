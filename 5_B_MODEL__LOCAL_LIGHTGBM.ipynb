{
 "cells": [
  {
   "cell_type": "code",
   "execution_count": 1,
   "metadata": {},
   "outputs": [],
   "source": [
    "# Import AWS and Sagemaker SDKs and get files access\n",
    "import boto3\n",
    "import io\n",
    "from sagemaker import get_execution_role\n",
    "\n",
    "role = get_execution_role()\n",
    "bucket ='sagemaker-data-energy-demand'"
   ]
  },
  {
   "cell_type": "code",
   "execution_count": 4,
   "metadata": {},
   "outputs": [
    {
     "name": "stdout",
     "output_type": "stream",
     "text": [
      "Collecting lightgbm\n",
      "\u001b[?25l  Downloading https://files.pythonhosted.org/packages/0b/9d/ddcb2f43aca194987f1a99e27edf41cf9bc39ea750c3371c2a62698c509a/lightgbm-2.3.1-py2.py3-none-manylinux1_x86_64.whl (1.2MB)\n",
      "\u001b[K    100% |████████████████████████████████| 1.2MB 21.6MB/s ta 0:00:01\n",
      "\u001b[?25hRequirement already satisfied: numpy in /home/ec2-user/anaconda3/envs/python3/lib/python3.6/site-packages (from lightgbm) (1.14.3)\n",
      "Requirement already satisfied: scikit-learn in /home/ec2-user/anaconda3/envs/python3/lib/python3.6/site-packages (from lightgbm) (0.20.3)\n",
      "Requirement already satisfied: scipy in /home/ec2-user/anaconda3/envs/python3/lib/python3.6/site-packages (from lightgbm) (1.1.0)\n",
      "Installing collected packages: lightgbm\n",
      "Successfully installed lightgbm-2.3.1\n",
      "\u001b[33mYou are using pip version 10.0.1, however version 19.3.1 is available.\n",
      "You should consider upgrading via the 'pip install --upgrade pip' command.\u001b[0m\n"
     ]
    }
   ],
   "source": [
    "!pip install lightgbm"
   ]
  },
  {
   "cell_type": "code",
   "execution_count": 10,
   "metadata": {},
   "outputs": [],
   "source": [
    "import sys\n",
    "import warnings\n",
    "warnings.filterwarnings('ignore')\n",
    "\n",
    "import numpy as np \n",
    "import pandas as pd \n",
    "\n",
    "import seaborn as sns\n",
    "import matplotlib.pyplot as plt\n",
    "import plotly.express as px\n",
    "import plotly.graph_objects as go\n",
    "plt.style.use('fivethirtyeight')\n",
    "\n",
    "from sklearn.model_selection import train_test_split\n",
    "from sklearn.preprocessing import MinMaxScaler\n",
    "from sklearn.metrics import mean_squared_error, mean_absolute_error\n",
    "\n",
    "\n",
    "# Light GBM \n",
    "import lightgbm as lgb"
   ]
  },
  {
   "cell_type": "code",
   "execution_count": 7,
   "metadata": {},
   "outputs": [],
   "source": [
    "# Import data \n",
    "\n",
    "CITY = 'LosAngeles'\n",
    "train_key = 'dataframes/%s/train/data_train.csv' % CITY\n",
    "validation_key = 'dataframes/%s/test/data_validation.csv' % CITY\n",
    "\n",
    "train_location = 's3://{}/{}'.format(bucket, train_key)\n",
    "validation_location = 's3://{}/{}'.format(bucket, validation_key)\n",
    "\n",
    "df_train = pd.read_csv(train_location, index_col='datetime')\n",
    "df_validation = pd.read_csv(validation_location, index_col='datetime')"
   ]
  },
  {
   "cell_type": "code",
   "execution_count": 8,
   "metadata": {},
   "outputs": [],
   "source": [
    "def data_sppliter(df, label):\n",
    "    cols = list(df.columns)\n",
    "    cols.remove(label)\n",
    "    X = df[cols]\n",
    "    y = df[label]\n",
    "    return X, y\n",
    "\n",
    "X_train, y_train = data_sppliter(df_train, label='demand(t)')\n",
    "X_validation, y_validation = data_sppliter(df_validation, label='demand(t)')"
   ]
  },
  {
   "cell_type": "code",
   "execution_count": 9,
   "metadata": {},
   "outputs": [],
   "source": [
    "scaler = MinMaxScaler()\n",
    "X_train_scaled = scaler.fit_transform(X_train)\n",
    "X_validation_scaled = scaler.transform(X_validation)\n",
    "\n",
    "X_train = pd.DataFrame(X_train_scaled, columns=X_train.columns, index=X_train.index)\n",
    "X_validation = pd.DataFrame(X_validation_scaled, columns=X_validation.columns, index=X_validation.index)"
   ]
  },
  {
   "cell_type": "markdown",
   "metadata": {},
   "source": [
    "## Create LightGBM Model"
   ]
  },
  {
   "cell_type": "code",
   "execution_count": 15,
   "metadata": {},
   "outputs": [],
   "source": [
    "# Creating model\n",
    "gbm = lgb.LGBMRegressor(num_leaves=31,\n",
    "                        learning_rate=0.05,\n",
    "                        n_estimators=100)"
   ]
  },
  {
   "cell_type": "code",
   "execution_count": 20,
   "metadata": {},
   "outputs": [
    {
     "name": "stdout",
     "output_type": "stream",
     "text": [
      "[1]\tvalid_0's l1: 433.691\tvalid_0's l2: 262657\n",
      "Training until validation scores don't improve for 10 rounds\n",
      "[2]\tvalid_0's l1: 413.587\tvalid_0's l2: 238460\n",
      "[3]\tvalid_0's l1: 395.062\tvalid_0's l2: 216847\n",
      "[4]\tvalid_0's l1: 377.029\tvalid_0's l2: 197080\n",
      "[5]\tvalid_0's l1: 360.295\tvalid_0's l2: 179379\n",
      "[6]\tvalid_0's l1: 343.91\tvalid_0's l2: 163142\n",
      "[7]\tvalid_0's l1: 328.595\tvalid_0's l2: 148504\n",
      "[8]\tvalid_0's l1: 313.939\tvalid_0's l2: 135330\n",
      "[9]\tvalid_0's l1: 300.218\tvalid_0's l2: 123398\n",
      "[10]\tvalid_0's l1: 286.897\tvalid_0's l2: 112423\n",
      "[11]\tvalid_0's l1: 273.59\tvalid_0's l2: 102340\n",
      "[12]\tvalid_0's l1: 261.536\tvalid_0's l2: 93373.9\n",
      "[13]\tvalid_0's l1: 250.462\tvalid_0's l2: 85383.3\n",
      "[14]\tvalid_0's l1: 238.896\tvalid_0's l2: 77766.6\n",
      "[15]\tvalid_0's l1: 228.934\tvalid_0's l2: 71206.1\n",
      "[16]\tvalid_0's l1: 218.542\tvalid_0's l2: 64995.8\n",
      "[17]\tvalid_0's l1: 209.305\tvalid_0's l2: 59527.4\n",
      "[18]\tvalid_0's l1: 200.822\tvalid_0's l2: 54702\n",
      "[19]\tvalid_0's l1: 192.436\tvalid_0's l2: 50127.9\n",
      "[20]\tvalid_0's l1: 184.74\tvalid_0's l2: 46088.4\n",
      "[21]\tvalid_0's l1: 176.547\tvalid_0's l2: 42111\n",
      "[22]\tvalid_0's l1: 169.835\tvalid_0's l2: 38888.6\n",
      "[23]\tvalid_0's l1: 163.193\tvalid_0's l2: 35861.7\n",
      "[24]\tvalid_0's l1: 156.282\tvalid_0's l2: 32939.8\n",
      "[25]\tvalid_0's l1: 150.293\tvalid_0's l2: 30496.4\n",
      "[26]\tvalid_0's l1: 144.556\tvalid_0's l2: 28208.6\n",
      "[27]\tvalid_0's l1: 139.129\tvalid_0's l2: 26133.2\n",
      "[28]\tvalid_0's l1: 133.611\tvalid_0's l2: 24140.9\n",
      "[29]\tvalid_0's l1: 128.69\tvalid_0's l2: 22410.7\n",
      "[30]\tvalid_0's l1: 124.276\tvalid_0's l2: 20882.5\n",
      "[31]\tvalid_0's l1: 119.879\tvalid_0's l2: 19461.6\n",
      "[32]\tvalid_0's l1: 116.038\tvalid_0's l2: 18214.4\n",
      "[33]\tvalid_0's l1: 112.243\tvalid_0's l2: 17046.1\n",
      "[34]\tvalid_0's l1: 108.527\tvalid_0's l2: 15962.2\n",
      "[35]\tvalid_0's l1: 105.105\tvalid_0's l2: 14975.5\n",
      "[36]\tvalid_0's l1: 101.858\tvalid_0's l2: 14095.2\n",
      "[37]\tvalid_0's l1: 98.8771\tvalid_0's l2: 13298.8\n",
      "[38]\tvalid_0's l1: 95.8013\tvalid_0's l2: 12492.5\n",
      "[39]\tvalid_0's l1: 92.923\tvalid_0's l2: 11777.8\n",
      "[40]\tvalid_0's l1: 90.5163\tvalid_0's l2: 11179.4\n",
      "[41]\tvalid_0's l1: 88.1967\tvalid_0's l2: 10627.7\n",
      "[42]\tvalid_0's l1: 85.8882\tvalid_0's l2: 10095.4\n",
      "[43]\tvalid_0's l1: 83.743\tvalid_0's l2: 9620.98\n",
      "[44]\tvalid_0's l1: 81.6776\tvalid_0's l2: 9162.28\n",
      "[45]\tvalid_0's l1: 80.009\tvalid_0's l2: 8813.15\n",
      "[46]\tvalid_0's l1: 78.0231\tvalid_0's l2: 8419.16\n",
      "[47]\tvalid_0's l1: 76.3643\tvalid_0's l2: 8073.33\n",
      "[48]\tvalid_0's l1: 74.6398\tvalid_0's l2: 7762.37\n",
      "[49]\tvalid_0's l1: 72.9564\tvalid_0's l2: 7458.91\n",
      "[50]\tvalid_0's l1: 71.3564\tvalid_0's l2: 7185.47\n",
      "[51]\tvalid_0's l1: 69.949\tvalid_0's l2: 6949.71\n",
      "[52]\tvalid_0's l1: 68.4338\tvalid_0's l2: 6690.38\n",
      "[53]\tvalid_0's l1: 66.8461\tvalid_0's l2: 6435.97\n",
      "[54]\tvalid_0's l1: 65.7773\tvalid_0's l2: 6268.56\n",
      "[55]\tvalid_0's l1: 64.5274\tvalid_0's l2: 6099.17\n",
      "[56]\tvalid_0's l1: 63.2994\tvalid_0's l2: 5929.38\n",
      "[57]\tvalid_0's l1: 62.1198\tvalid_0's l2: 5777.01\n",
      "[58]\tvalid_0's l1: 61.1168\tvalid_0's l2: 5652.7\n",
      "[59]\tvalid_0's l1: 60.0703\tvalid_0's l2: 5509.89\n",
      "[60]\tvalid_0's l1: 59.1626\tvalid_0's l2: 5397.65\n",
      "[61]\tvalid_0's l1: 58.3007\tvalid_0's l2: 5296.85\n",
      "[62]\tvalid_0's l1: 57.4657\tvalid_0's l2: 5204.35\n",
      "[63]\tvalid_0's l1: 56.7495\tvalid_0's l2: 5123.72\n",
      "[64]\tvalid_0's l1: 56.0918\tvalid_0's l2: 5052.68\n",
      "[65]\tvalid_0's l1: 55.3076\tvalid_0's l2: 4959.92\n",
      "[66]\tvalid_0's l1: 54.6046\tvalid_0's l2: 4885.39\n",
      "[67]\tvalid_0's l1: 53.9263\tvalid_0's l2: 4815.49\n",
      "[68]\tvalid_0's l1: 53.3023\tvalid_0's l2: 4746.33\n",
      "[69]\tvalid_0's l1: 52.7102\tvalid_0's l2: 4663.87\n",
      "[70]\tvalid_0's l1: 52.2394\tvalid_0's l2: 4617.4\n",
      "[71]\tvalid_0's l1: 51.6829\tvalid_0's l2: 4541.23\n",
      "[72]\tvalid_0's l1: 51.101\tvalid_0's l2: 4465.78\n",
      "[73]\tvalid_0's l1: 50.5917\tvalid_0's l2: 4407.55\n",
      "[74]\tvalid_0's l1: 50.0362\tvalid_0's l2: 4348.93\n",
      "[75]\tvalid_0's l1: 49.6821\tvalid_0's l2: 4313.59\n",
      "[76]\tvalid_0's l1: 49.3274\tvalid_0's l2: 4268.34\n",
      "[77]\tvalid_0's l1: 49.0359\tvalid_0's l2: 4241.75\n",
      "[78]\tvalid_0's l1: 48.64\tvalid_0's l2: 4199.8\n",
      "[79]\tvalid_0's l1: 48.1464\tvalid_0's l2: 4127.9\n",
      "[80]\tvalid_0's l1: 47.8069\tvalid_0's l2: 4085.68\n",
      "[81]\tvalid_0's l1: 47.3858\tvalid_0's l2: 4039.11\n",
      "[82]\tvalid_0's l1: 47.1302\tvalid_0's l2: 4019.82\n",
      "[83]\tvalid_0's l1: 46.736\tvalid_0's l2: 3961.84\n",
      "[84]\tvalid_0's l1: 46.5623\tvalid_0's l2: 3946.9\n",
      "[85]\tvalid_0's l1: 46.4123\tvalid_0's l2: 3935.68\n",
      "[86]\tvalid_0's l1: 46.0569\tvalid_0's l2: 3893.29\n",
      "[87]\tvalid_0's l1: 45.8269\tvalid_0's l2: 3872.54\n",
      "[88]\tvalid_0's l1: 45.6666\tvalid_0's l2: 3859.54\n",
      "[89]\tvalid_0's l1: 45.5348\tvalid_0's l2: 3854.3\n",
      "[90]\tvalid_0's l1: 45.3576\tvalid_0's l2: 3832.74\n",
      "[91]\tvalid_0's l1: 45.1748\tvalid_0's l2: 3820.99\n",
      "[92]\tvalid_0's l1: 45.06\tvalid_0's l2: 3813.55\n",
      "[93]\tvalid_0's l1: 44.9108\tvalid_0's l2: 3804.35\n",
      "[94]\tvalid_0's l1: 44.4066\tvalid_0's l2: 3746.35\n",
      "[95]\tvalid_0's l1: 44.2868\tvalid_0's l2: 3739.86\n",
      "[96]\tvalid_0's l1: 43.9329\tvalid_0's l2: 3694.68\n",
      "[97]\tvalid_0's l1: 43.5045\tvalid_0's l2: 3641.08\n",
      "[98]\tvalid_0's l1: 43.2132\tvalid_0's l2: 3589.46\n",
      "[99]\tvalid_0's l1: 42.9711\tvalid_0's l2: 3570.1\n",
      "[100]\tvalid_0's l1: 42.5597\tvalid_0's l2: 3498.31\n",
      "Did not meet early stopping. Best iteration is:\n",
      "[100]\tvalid_0's l1: 42.5597\tvalid_0's l2: 3498.31\n",
      "Starting predicting...\n",
      "The rmse of prediction is: 59.14648034631988\n"
     ]
    }
   ],
   "source": [
    "gbm.fit(X_train, y_train,\n",
    "        eval_set=[(X_validation, y_validation)],\n",
    "        eval_metric='l1',\n",
    "        early_stopping_rounds=10)\n",
    "\n",
    "print('Starting predicting...')\n",
    "\n",
    "# predict\n",
    "df_validation['LightGBM_demand_prediction'] = gbm.predict(X_validation, num_iteration=gbm.best_iteration_)\n",
    "\n",
    "# eval\n",
    "print('The rmse of prediction is:', mean_squared_error(y_validation, y_pred) ** 0.5)"
   ]
  },
  {
   "cell_type": "code",
   "execution_count": 24,
   "metadata": {},
   "outputs": [],
   "source": [
    "df_lgb = df_validation[['LightGBM_demand_prediction']].copy()"
   ]
  },
  {
   "cell_type": "code",
   "execution_count": 26,
   "metadata": {},
   "outputs": [
    {
     "data": {
      "text/plain": [
       "{'ResponseMetadata': {'RequestId': '0CE7F6D6AAFA8D3D',\n",
       "  'HostId': '0V+vGWZNzCCasQdW5tK3MhEs30LlYSs88XWPPpIsRrOwDwJSPblDq8ALvx+u5+E3bfOfVv3mF0M=',\n",
       "  'HTTPStatusCode': 200,\n",
       "  'HTTPHeaders': {'x-amz-id-2': '0V+vGWZNzCCasQdW5tK3MhEs30LlYSs88XWPPpIsRrOwDwJSPblDq8ALvx+u5+E3bfOfVv3mF0M=',\n",
       "   'x-amz-request-id': '0CE7F6D6AAFA8D3D',\n",
       "   'date': 'Thu, 16 Jan 2020 14:27:41 GMT',\n",
       "   'etag': '\"465ee4ec617d5dca73359c0c01102235\"',\n",
       "   'content-length': '0',\n",
       "   'server': 'AmazonS3'},\n",
       "  'RetryAttempts': 0},\n",
       " 'ETag': '\"465ee4ec617d5dca73359c0c01102235\"'}"
      ]
     },
     "execution_count": 26,
     "metadata": {},
     "output_type": "execute_result"
    }
   ],
   "source": [
    "# save as csv file to continue in another notebook\n",
    "lgb_buffer = io.StringIO()\n",
    "s3_resource = boto3.resource('s3')\n",
    "key = 'predict/%s/pred_lightgbm.csv' % CITY\n",
    "\n",
    "df_lgb.to_csv(lgb_buffer, compression=None)\n",
    "s3_resource.Object(bucket, key).put(Body=lgb_buffer.getvalue())"
   ]
  },
  {
   "cell_type": "code",
   "execution_count": null,
   "metadata": {},
   "outputs": [],
   "source": []
  }
 ],
 "metadata": {
  "kernelspec": {
   "display_name": "conda_python3",
   "language": "python",
   "name": "conda_python3"
  },
  "language_info": {
   "codemirror_mode": {
    "name": "ipython",
    "version": 3
   },
   "file_extension": ".py",
   "mimetype": "text/x-python",
   "name": "python",
   "nbconvert_exporter": "python",
   "pygments_lexer": "ipython3",
   "version": "3.6.5"
  }
 },
 "nbformat": 4,
 "nbformat_minor": 4
}
