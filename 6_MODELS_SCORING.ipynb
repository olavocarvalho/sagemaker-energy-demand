{
 "cells": [
  {
   "cell_type": "code",
   "execution_count": 414,
   "metadata": {},
   "outputs": [],
   "source": [
    "# Import AWS and Sagemaker SDKs and get files access\n",
    "import boto3\n",
    "import io\n",
    "from sagemaker import get_execution_role\n",
    "\n",
    "role = get_execution_role()\n",
    "bucket ='sagemaker-data-energy-demand'"
   ]
  },
  {
   "cell_type": "code",
   "execution_count": 415,
   "metadata": {},
   "outputs": [],
   "source": [
    "import pandas as pd\n",
    "import numpy as np\n",
    "from datetime import datetime, timedelta\n",
    "import matplotlib.pyplot as plt\n",
    "from datetime import datetime\n",
    "import requests\n",
    "import warnings\n",
    "warnings.filterwarnings('ignore')\n",
    "\n",
    "from sklearn.preprocessing import MinMaxScaler\n",
    "from sklearn.metrics import mean_squared_error, mean_absolute_error, r2_score"
   ]
  },
  {
   "cell_type": "code",
   "execution_count": 416,
   "metadata": {},
   "outputs": [],
   "source": [
    "# Import full dataset\n",
    "CITY = 'LosAngeles'\n",
    "all_key = 'dataframes/%s/all/data_all.csv' % CITY\n",
    "all_location = 's3://{}/{}'.format(bucket, all_key)\n",
    "\n",
    "all_df = pd.read_csv(all_location, index_col='datetime')\n",
    "\n",
    "xgb_key = 'predict/%s/pred_xgboost.csv' % CITY\n",
    "xgb_location = 's3://{}/{}'.format(bucket, xgb_key)\n",
    "\n",
    "xgb_df = pd.read_csv(xgb_location, index_col='datetime')\n",
    "\n",
    "lgb_key = 'predict/%s/pred_lightgbm.csv' % CITY\n",
    "lgb_location = 's3://{}/{}'.format(bucket, lgb_key)\n",
    "\n",
    "lgb_df = pd.read_csv(lgb_location, index_col='datetime')"
   ]
  },
  {
   "cell_type": "code",
   "execution_count": 417,
   "metadata": {},
   "outputs": [
    {
     "data": {
      "text/html": [
       "<div>\n",
       "<style scoped>\n",
       "    .dataframe tbody tr th:only-of-type {\n",
       "        vertical-align: middle;\n",
       "    }\n",
       "\n",
       "    .dataframe tbody tr th {\n",
       "        vertical-align: top;\n",
       "    }\n",
       "\n",
       "    .dataframe thead th {\n",
       "        text-align: right;\n",
       "    }\n",
       "</style>\n",
       "<table border=\"1\" class=\"dataframe\">\n",
       "  <thead>\n",
       "    <tr style=\"text-align: right;\">\n",
       "      <th></th>\n",
       "      <th>LightGBM_demand_prediction</th>\n",
       "    </tr>\n",
       "    <tr>\n",
       "      <th>datetime</th>\n",
       "      <th></th>\n",
       "    </tr>\n",
       "  </thead>\n",
       "  <tbody>\n",
       "    <tr>\n",
       "      <th>2020-01-14 18:00:00+00:00</th>\n",
       "      <td>3309.807937</td>\n",
       "    </tr>\n",
       "    <tr>\n",
       "      <th>2020-01-14 19:00:00+00:00</th>\n",
       "      <td>3283.630304</td>\n",
       "    </tr>\n",
       "    <tr>\n",
       "      <th>2020-01-14 20:00:00+00:00</th>\n",
       "      <td>3241.609572</td>\n",
       "    </tr>\n",
       "    <tr>\n",
       "      <th>2020-01-14 21:00:00+00:00</th>\n",
       "      <td>3117.613225</td>\n",
       "    </tr>\n",
       "    <tr>\n",
       "      <th>2020-01-14 22:00:00+00:00</th>\n",
       "      <td>3017.042724</td>\n",
       "    </tr>\n",
       "  </tbody>\n",
       "</table>\n",
       "</div>"
      ],
      "text/plain": [
       "                           LightGBM_demand_prediction\n",
       "datetime                                             \n",
       "2020-01-14 18:00:00+00:00                 3309.807937\n",
       "2020-01-14 19:00:00+00:00                 3283.630304\n",
       "2020-01-14 20:00:00+00:00                 3241.609572\n",
       "2020-01-14 21:00:00+00:00                 3117.613225\n",
       "2020-01-14 22:00:00+00:00                 3017.042724"
      ]
     },
     "execution_count": 417,
     "metadata": {},
     "output_type": "execute_result"
    }
   ],
   "source": [
    "lgb_df.tail()"
   ]
  },
  {
   "cell_type": "code",
   "execution_count": 418,
   "metadata": {},
   "outputs": [],
   "source": [
    "EIA__API_KEY = '1d48c7c8354cc4408732174250d3e8ff'\n",
    "REGION_CODE = 'LDWP'\n",
    "CITY = 'LosAngeles'\n",
    "\n",
    "def str_to_isodatetime(string):\n",
    "    year = string[:4]\n",
    "    month = string[4:6]\n",
    "    day =  string[6:8]\n",
    "    time = string[8:11] + ':00:00+0000'\n",
    "    return year + month + day + time\n",
    "\n",
    "def eia2dataframe(response):\n",
    "    '''\n",
    "    This function unpacks the JSON file from EIA API into a pandas dataframe.\n",
    "    '''\n",
    "    data = response['series'][0]['data']\n",
    "    dates = []\n",
    "    values = []\n",
    "    for date, demand in data:\n",
    "        if demand is None or demand <= 0:\n",
    "#            dates.append(str_to_isodatetime(date))\n",
    "            dates.append(date)\n",
    "            values.append(np.nan)      \n",
    "            continue   \n",
    "#       dates.append(str_to_isodatetime(date))\n",
    "        dates.append(date)\n",
    "        values.append(float(demand))\n",
    "    df = pd.DataFrame({'datetime': dates, 'EIA_demand_forecast': values})\n",
    "    df['datetime'] = pd.to_datetime(df['datetime'])\n",
    "#    df['EIA_demand_forecast'] = df['EIA_demand_forecast'].interpolate()\n",
    "    df.set_index('datetime', inplace=True)\n",
    "    df.sort_index(ascending=True, inplace=True, kind='mergesort')\n",
    "    return df\n",
    "\n",
    "electricity_api_response = requests.get('http://api.eia.gov/series/?api_key=%s&series_id=EBA.%s-ALL.DF.H' % (EIA__API_KEY, REGION_CODE)).json()\n",
    "electricity_df = eia2dataframe(electricity_api_response)\n"
   ]
  },
  {
   "cell_type": "code",
   "execution_count": 419,
   "metadata": {},
   "outputs": [
    {
     "name": "stdout",
     "output_type": "stream",
     "text": [
      "*** min ***\n",
      "2015-07-01 08:00:00+00:00\n",
      "2015-07-01 09:00:00+00:00\n",
      "*** max ***\n",
      "2020-01-17 08:00:00+00:00\n",
      "2020-01-14 23:00:00+00:00\n"
     ]
    }
   ],
   "source": [
    "print('*** min ***')\n",
    "print(min(electricity_df.index))\n",
    "print(min(all_df.index))\n",
    "print('*** max ***')\n",
    "print(max(electricity_df.index))\n",
    "print(max(all_df.index))"
   ]
  },
  {
   "cell_type": "code",
   "execution_count": 399,
   "metadata": {},
   "outputs": [
    {
     "name": "stdout",
     "output_type": "stream",
     "text": [
      "*** min ***\n",
      "2015-07-01 08:00:00+00:00\n",
      "2015-07-01 09:00:00+00:00\n",
      "False\n",
      "*** max ***\n",
      "2020-01-14 23:00:00+00:00\n",
      "2020-01-14 23:00:00+00:00\n",
      "True\n"
     ]
    }
   ],
   "source": [
    "## Cut dataframes based on date to align sources\n",
    "electricity_df = electricity_df[:str(all_df.index.max())]\n",
    "all_df = all_df[str(electricity_df.index.min()):]\n",
    "\n",
    "print('*** min ***')\n",
    "print(min(electricity_df.index))\n",
    "print(min(all_df.index))\n",
    "print(str(all_df.index.min()) == str(electricity_df.index.min()))\n",
    "print('*** max ***')\n",
    "print(max(electricity_df.index))\n",
    "print(max(all_df.index))\n",
    "print(str(electricity_df.index.max()) == all_df.index.max())"
   ]
  },
  {
   "cell_type": "code",
   "execution_count": 410,
   "metadata": {},
   "outputs": [
    {
     "name": "stdout",
     "output_type": "stream",
     "text": [
      "0 days 01:00:00     39392\n",
      "1 days 00:00:00         3\n",
      "1 days 02:00:00         2\n",
      "0 days 02:00:00         2\n",
      "0 days 22:00:00         1\n",
      "11 days 01:00:00        1\n",
      "Name: datetime, dtype: int64\n"
     ]
    }
   ],
   "source": [
    "res = (pd.Series(electricity_df.index[1:]) - pd.Series(electricity_df.index[:-1])).value_counts()\n",
    "print(res)"
   ]
  },
  {
   "cell_type": "code",
   "execution_count": 400,
   "metadata": {},
   "outputs": [],
   "source": [
    "observed = all_df[['demand(t)']]\n",
    "\n",
    "# join demand forecast with demand to align dataframes\n",
    "join = observed.join(electricity_df, how='left')\n",
    "\n",
    "# delete first entry due to supervised reframe\n",
    "join = join.iloc[1:]"
   ]
  },
  {
   "cell_type": "code",
   "execution_count": 401,
   "metadata": {},
   "outputs": [],
   "source": [
    "lastrow_date = all_df.tail(1).index.values[0]\n",
    "               \n",
    "datetime_lastrow = datetime.strptime(str(lastrow_date)[:-6], '%Y-%m-%d %H:%M:%S')\n",
    "split_test_date = datetime_lastrow - timedelta(days=365)\n",
    "split_test_date_str = str(split_test_date)\n",
    "\n",
    "electricity_compare = join[split_test_date_str:]"
   ]
  },
  {
   "cell_type": "code",
   "execution_count": 402,
   "metadata": {},
   "outputs": [
    {
     "data": {
      "text/plain": [
       "datetime.datetime(2019, 1, 14, 23, 0)"
      ]
     },
     "execution_count": 402,
     "metadata": {},
     "output_type": "execute_result"
    }
   ],
   "source": [
    "split_test_date"
   ]
  },
  {
   "cell_type": "code",
   "execution_count": 403,
   "metadata": {},
   "outputs": [
    {
     "name": "stdout",
     "output_type": "stream",
     "text": [
      "0.007989955484533729\n"
     ]
    }
   ],
   "source": [
    "# find indices where no value was recorded for demand forecast\n",
    "nan_inds = np.where(np.isnan(electricity_compare)==True)[0]\n",
    "nan_percent = len(nan_inds) / float(len(electricity_compare))\n",
    "print(nan_percent)"
   ]
  },
  {
   "cell_type": "code",
   "execution_count": 409,
   "metadata": {},
   "outputs": [
    {
     "data": {
      "text/plain": [
       "(576, 1)"
      ]
     },
     "execution_count": 409,
     "metadata": {},
     "output_type": "execute_result"
    }
   ],
   "source": [
    "xgb_df.shape"
   ]
  },
  {
   "cell_type": "code",
   "execution_count": 413,
   "metadata": {},
   "outputs": [
    {
     "ename": "AttributeError",
     "evalue": "'numpy.ndarray' object has no attribute 'join'",
     "output_type": "error",
     "traceback": [
      "\u001b[0;31m---------------------------------------------------------------------------\u001b[0m",
      "\u001b[0;31mAttributeError\u001b[0m                            Traceback (most recent call last)",
      "\u001b[0;32m<ipython-input-413-0c05cf27559c>\u001b[0m in \u001b[0;36m<module>\u001b[0;34m()\u001b[0m\n\u001b[0;32m----> 1\u001b[0;31m \u001b[0melectricity_compare\u001b[0m \u001b[0;34m=\u001b[0m \u001b[0melectricity_compare\u001b[0m\u001b[0;34m.\u001b[0m\u001b[0mjoin\u001b[0m\u001b[0;34m(\u001b[0m\u001b[0mxgb_df\u001b[0m\u001b[0;34m,\u001b[0m \u001b[0mhow\u001b[0m\u001b[0;34m=\u001b[0m\u001b[0;34m'left'\u001b[0m\u001b[0;34m)\u001b[0m\u001b[0;34m\u001b[0m\u001b[0m\n\u001b[0m\u001b[1;32m      2\u001b[0m \u001b[0melectricity_compare\u001b[0m \u001b[0;34m=\u001b[0m \u001b[0melectricity_compare\u001b[0m\u001b[0;34m.\u001b[0m\u001b[0mjoin\u001b[0m\u001b[0;34m(\u001b[0m\u001b[0mlgb_df\u001b[0m\u001b[0;34m,\u001b[0m \u001b[0mhow\u001b[0m\u001b[0;34m=\u001b[0m\u001b[0;34m'left'\u001b[0m\u001b[0;34m)\u001b[0m\u001b[0;34m\u001b[0m\u001b[0m\n",
      "\u001b[0;31mAttributeError\u001b[0m: 'numpy.ndarray' object has no attribute 'join'"
     ]
    }
   ],
   "source": [
    "electricity_compare = electricity_compare.join(xgb_df, how='left')\n",
    "electricity_compare = electricity_compare.join(lgb_df, how='left')"
   ]
  },
  {
   "cell_type": "code",
   "execution_count": 393,
   "metadata": {},
   "outputs": [
    {
     "data": {
      "text/plain": [
       "(23, 4)"
      ]
     },
     "execution_count": 393,
     "metadata": {},
     "output_type": "execute_result"
    }
   ],
   "source": [
    "electricity_compare = electricity_compare.dropna(axis=0)\n",
    "electricity_compare.shape"
   ]
  },
  {
   "cell_type": "code",
   "execution_count": 387,
   "metadata": {},
   "outputs": [
    {
     "data": {
      "text/html": [
       "<div>\n",
       "<style scoped>\n",
       "    .dataframe tbody tr th:only-of-type {\n",
       "        vertical-align: middle;\n",
       "    }\n",
       "\n",
       "    .dataframe tbody tr th {\n",
       "        vertical-align: top;\n",
       "    }\n",
       "\n",
       "    .dataframe thead th {\n",
       "        text-align: right;\n",
       "    }\n",
       "</style>\n",
       "<table border=\"1\" class=\"dataframe\">\n",
       "  <thead>\n",
       "    <tr style=\"text-align: right;\">\n",
       "      <th></th>\n",
       "      <th>LightGBM_demand_prediction</th>\n",
       "    </tr>\n",
       "    <tr>\n",
       "      <th>datetime</th>\n",
       "      <th></th>\n",
       "    </tr>\n",
       "  </thead>\n",
       "  <tbody>\n",
       "    <tr>\n",
       "      <th>2020-01-14 18:00:00+00:00</th>\n",
       "      <td>3309.807937</td>\n",
       "    </tr>\n",
       "    <tr>\n",
       "      <th>2020-01-14 19:00:00+00:00</th>\n",
       "      <td>3283.630304</td>\n",
       "    </tr>\n",
       "    <tr>\n",
       "      <th>2020-01-14 20:00:00+00:00</th>\n",
       "      <td>3241.609572</td>\n",
       "    </tr>\n",
       "    <tr>\n",
       "      <th>2020-01-14 21:00:00+00:00</th>\n",
       "      <td>3117.613225</td>\n",
       "    </tr>\n",
       "    <tr>\n",
       "      <th>2020-01-14 22:00:00+00:00</th>\n",
       "      <td>3017.042724</td>\n",
       "    </tr>\n",
       "  </tbody>\n",
       "</table>\n",
       "</div>"
      ],
      "text/plain": [
       "                           LightGBM_demand_prediction\n",
       "datetime                                             \n",
       "2020-01-14 18:00:00+00:00                 3309.807937\n",
       "2020-01-14 19:00:00+00:00                 3283.630304\n",
       "2020-01-14 20:00:00+00:00                 3241.609572\n",
       "2020-01-14 21:00:00+00:00                 3117.613225\n",
       "2020-01-14 22:00:00+00:00                 3017.042724"
      ]
     },
     "execution_count": 387,
     "metadata": {},
     "output_type": "execute_result"
    }
   ],
   "source": [
    "lgb_df.tail()"
   ]
  },
  {
   "cell_type": "code",
   "execution_count": 364,
   "metadata": {},
   "outputs": [
    {
     "name": "stdout",
     "output_type": "stream",
     "text": [
      "0.0\n"
     ]
    }
   ],
   "source": [
    "# find indices where no value was recorded for demand forecast\n",
    "nan_inds = np.where(np.isnan(electricity_compare)==True)[0]\n",
    "nan_percent = len(nan_inds) / float(len(electricity_compare))\n",
    "print(nan_percent)\n",
    "\n",
    "electricity_compare = electricity_compare.dropna(axis=0)"
   ]
  },
  {
   "cell_type": "code",
   "execution_count": 366,
   "metadata": {},
   "outputs": [
    {
     "name": "stdout",
     "output_type": "stream",
     "text": [
      "      Model          RMSE         MAE      MAPE\n",
      "1   XGBoost  10407.902502   78.112001  2.592302\n",
      "2  LightGBM  12004.988296   86.739731  2.921168\n",
      "0       EIA  98942.758498  246.429709  7.893779\n"
     ]
    }
   ],
   "source": [
    "def mean_absolute_percentage_error(y_true, y_pred): \n",
    "    \"\"\"Calculates MAPE given y_true and y_pred\"\"\"\n",
    "    y_true, y_pred = np.array(y_true), np.array(y_pred)\n",
    "    return np.mean(np.abs((y_true - y_pred) / y_true)) * 100\n",
    "\n",
    "def evaluate_model(y_true, y_pred, model_name):\n",
    "    \"\"\"Evaluates model given y_true and y_pred\"\"\"\n",
    "    rmse = mean_squared_error(y_true=y_true,\n",
    "                       y_pred=y_pred)\n",
    "\n",
    "    mae = mean_absolute_error(y_true=y_true,\n",
    "                       y_pred=y_pred)\n",
    "    \n",
    "    mape = mean_absolute_percentage_error(y_true=y_true,\n",
    "                   y_pred=y_pred)\n",
    "\n",
    "    return rmse, mae, mape, model_name\n",
    "\n",
    "rmses = []\n",
    "maes = []\n",
    "mapes = []\n",
    "names = []\n",
    "\n",
    "for col in electricity_compare.columns:\n",
    "    if col=='demand(t)':\n",
    "        continue\n",
    "    else:\n",
    "        rmse_score, mae_score, mape_score, model_name = evaluate_model(electricity_compare['demand(t)'], electricity_compare[col], col)\n",
    "\n",
    "    rmses.append(rmse_score)\n",
    "    maes.append(mae_score)\n",
    "    mapes.append(mape_score)\n",
    "    names.append(model_name.split('_')[0])\n",
    "\n",
    "model_results = pd.DataFrame({'Model': names, 'RMSE': rmses, 'MAE': maes, 'MAPE':mapes})\n",
    "print(model_results.sort_values(by='MAPE', ascending=True))"
   ]
  },
  {
   "cell_type": "code",
   "execution_count": null,
   "metadata": {},
   "outputs": [],
   "source": []
  }
 ],
 "metadata": {
  "kernelspec": {
   "display_name": "conda_python3",
   "language": "python",
   "name": "conda_python3"
  },
  "language_info": {
   "codemirror_mode": {
    "name": "ipython",
    "version": 3
   },
   "file_extension": ".py",
   "mimetype": "text/x-python",
   "name": "python",
   "nbconvert_exporter": "python",
   "pygments_lexer": "ipython3",
   "version": "3.6.5"
  }
 },
 "nbformat": 4,
 "nbformat_minor": 4
}
